{
  "nbformat": 4,
  "nbformat_minor": 0,
  "metadata": {
    "colab": {
      "name": "ML_Keras_Overfit_&_Underfit.ipynb",
      "provenance": [],
      "collapsed_sections": [],
      "authorship_tag": "ABX9TyPAbv/oDA6NMjc+NWW5oY/H",
      "include_colab_link": true
    },
    "kernelspec": {
      "name": "python3",
      "display_name": "Python 3"
    }
  },
  "cells": [
    {
      "cell_type": "markdown",
      "metadata": {
        "id": "view-in-github",
        "colab_type": "text"
      },
      "source": [
        "<a href=\"https://colab.research.google.com/github/rajeevo/ML_Keras_Overfit_-_Underfit/blob/master/ML_Keras_Overfit_%26_Underfit.ipynb\" target=\"_parent\"><img src=\"https://colab.research.google.com/assets/colab-badge.svg\" alt=\"Open In Colab\"/></a>"
      ]
    },
    {
      "cell_type": "code",
      "metadata": {
        "id": "3Eb4M-dYwMSt",
        "colab_type": "code",
        "colab": {}
      },
      "source": [
        "# 1.) Import Libraries"
      ],
      "execution_count": null,
      "outputs": []
    },
    {
      "cell_type": "code",
      "metadata": {
        "id": "rky-2yELCR1G",
        "colab_type": "code",
        "colab": {
          "base_uri": "https://localhost:8080/",
          "height": 34
        },
        "outputId": "541ef946-9f24-437c-fdae-4b2164d10b9e"
      },
      "source": [
        "import tensorflow as tf\n",
        "\n",
        "from tensorflow.keras import layers\n",
        "from tensorflow.keras import regularizers\n",
        "\n",
        "print(tf.__version__)"
      ],
      "execution_count": null,
      "outputs": [
        {
          "output_type": "stream",
          "text": [
            "2.2.0\n"
          ],
          "name": "stdout"
        }
      ]
    },
    {
      "cell_type": "code",
      "metadata": {
        "id": "56TUVKbGCblx",
        "colab_type": "code",
        "colab": {
          "base_uri": "https://localhost:8080/",
          "height": 34
        },
        "outputId": "6a92dc8b-831d-4ad4-c03a-57e69bc9e285"
      },
      "source": [
        "!pip install -q git+https://github.com/tensorflow/docs\n",
        "\n",
        "import tensorflow_docs as tfdocs\n",
        "import tensorflow_docs.modeling\n",
        "import tensorflow_docs.plots"
      ],
      "execution_count": null,
      "outputs": [
        {
          "output_type": "stream",
          "text": [
            "  Building wheel for tensorflow-docs (setup.py) ... \u001b[?25l\u001b[?25hdone\n"
          ],
          "name": "stdout"
        }
      ]
    },
    {
      "cell_type": "code",
      "metadata": {
        "id": "xYKvkpHmCtjO",
        "colab_type": "code",
        "colab": {}
      },
      "source": [
        "from IPython import display\n",
        "from matplotlib import pyplot as plt\n",
        "\n",
        "import numpy as np\n",
        "\n",
        "import pathlib\n",
        "import shutil\n",
        "import tempfile"
      ],
      "execution_count": null,
      "outputs": []
    },
    {
      "cell_type": "code",
      "metadata": {
        "id": "aax9Ft8YDDC1",
        "colab_type": "code",
        "colab": {}
      },
      "source": [
        "logdir = pathlib.Path(tempfile.mktemp())/\"tensorboard_logs\"\n",
        "shutil.rmtree(logdir, ignore_errors=True)"
      ],
      "execution_count": null,
      "outputs": []
    },
    {
      "cell_type": "code",
      "metadata": {
        "id": "Y15jAY_6DTQD",
        "colab_type": "code",
        "colab": {}
      },
      "source": [
        "# 2.) Load and Prepare the Higgs Dataset"
      ],
      "execution_count": null,
      "outputs": []
    },
    {
      "cell_type": "code",
      "metadata": {
        "id": "iR9ChtzRDzLe",
        "colab_type": "code",
        "colab": {
          "base_uri": "https://localhost:8080/",
          "height": 52
        },
        "outputId": "e19096a8-dec8-4a5c-8a50-2d124de558a9"
      },
      "source": [
        "gz = tf.keras.utils.get_file('HIGGS.csv.gz', 'http://mlphysics.ics.uci.edu/data/higgs/HIGGS.csv.gz')"
      ],
      "execution_count": null,
      "outputs": [
        {
          "output_type": "stream",
          "text": [
            "Downloading data from http://mlphysics.ics.uci.edu/data/higgs/HIGGS.csv.gz\n",
            "2816409600/2816407858 [==============================] - 60s 0us/step\n"
          ],
          "name": "stdout"
        }
      ]
    },
    {
      "cell_type": "code",
      "metadata": {
        "id": "ZvLU0aS6EHW6",
        "colab_type": "code",
        "colab": {}
      },
      "source": [
        "FEATURES = 28"
      ],
      "execution_count": null,
      "outputs": []
    },
    {
      "cell_type": "code",
      "metadata": {
        "id": "htX_pQD-EQoC",
        "colab_type": "code",
        "colab": {}
      },
      "source": [
        "ds = tf.data.experimental.CsvDataset(gz,[float(),]*(FEATURES+1), compression_type=\"GZIP\")"
      ],
      "execution_count": null,
      "outputs": []
    },
    {
      "cell_type": "code",
      "metadata": {
        "id": "cuecn9fvExLM",
        "colab_type": "code",
        "colab": {}
      },
      "source": [
        "def pack_row(*row):\n",
        "  label = row[0]\n",
        "  features = tf.stack(row[1:], 1)\n",
        "  return features, label"
      ],
      "execution_count": null,
      "outputs": []
    },
    {
      "cell_type": "code",
      "metadata": {
        "id": "nPsAk75DE8me",
        "colab_type": "code",
        "colab": {}
      },
      "source": [
        "packed_ds = ds.batch(10000).map(pack_row).unbatch()"
      ],
      "execution_count": null,
      "outputs": []
    },
    {
      "cell_type": "code",
      "metadata": {
        "id": "7SqcPJS3FHd6",
        "colab_type": "code",
        "colab": {
          "base_uri": "https://localhost:8080/",
          "height": 371
        },
        "outputId": "37a7a6d9-3c70-46e8-dc04-1c7ae4e4d154"
      },
      "source": [
        "for features, label in packed_ds.batch(1000).take(1):\n",
        "  print(features[0])\n",
        "  plt.hist(features.numpy().flatten(), bins = 101)"
      ],
      "execution_count": null,
      "outputs": [
        {
          "output_type": "stream",
          "text": [
            "tf.Tensor(\n",
            "[ 0.8692932  -0.6350818   0.22569026  0.32747006 -0.6899932   0.75420225\n",
            " -0.24857314 -1.0920639   0.          1.3749921  -0.6536742   0.9303491\n",
            "  1.1074361   1.1389043  -1.5781983  -1.0469854   0.          0.65792954\n",
            " -0.01045457 -0.04576717  3.1019614   1.35376     0.9795631   0.97807616\n",
            "  0.92000484  0.72165745  0.98875093  0.87667835], shape=(28,), dtype=float32)\n"
          ],
          "name": "stdout"
        },
        {
          "output_type": "display_data",
          "data": {
            "image/png": "[encoded data removed]",
            "text/plain": [
              "<Figure size 432x288 with 1 Axes>"
            ]
          },
          "metadata": {
            "tags": [],
            "needs_background": "light"
          }
        }
      ]
    },
    {
      "cell_type": "code",
      "metadata": {
        "id": "my7WQT6kGpq8",
        "colab_type": "code",
        "colab": {}
      },
      "source": [
        "N_VALIDATION = int(1e3)\n",
        "N_TRAIN = int(1e4)\n",
        "BUFFER_SIZE = int(1e4)\n",
        "BATCH_SIZE = 500\n",
        "STEPS_PER_EPOCH = N_TRAIN//BATCH_SIZE"
      ],
      "execution_count": null,
      "outputs": []
    },
    {
      "cell_type": "code",
      "metadata": {
        "id": "xDXULX9qG-fA",
        "colab_type": "code",
        "colab": {}
      },
      "source": [
        "validate_ds = packed_ds.take(N_VALIDATION).cache()\n",
        "train_ds = packed_ds.skip(N_VALIDATION).take(N_TRAIN).cache()"
      ],
      "execution_count": null,
      "outputs": []
    },
    {
      "cell_type": "code",
      "metadata": {
        "id": "vmmEmKoQHSl3",
        "colab_type": "code",
        "colab": {
          "base_uri": "https://localhost:8080/",
          "height": 34
        },
        "outputId": "c459e2ec-cc0c-43b5-ea39-ea05a8c6c984"
      },
      "source": [
        "train_ds"
      ],
      "execution_count": null,
      "outputs": [
        {
          "output_type": "execute_result",
          "data": {
            "text/plain": [
              "<CacheDataset shapes: ((28,), ()), types: (tf.float32, tf.float32)>"
            ]
          },
          "metadata": {
            "tags": []
          },
          "execution_count": 15
        }
      ]
    },
    {
      "cell_type": "code",
      "metadata": {
        "id": "O5gDl0dxHVwL",
        "colab_type": "code",
        "colab": {}
      },
      "source": [
        "validate_ds = validate_ds.batch(BATCH_SIZE)\n",
        "train_ds = train_ds.shuffle(BUFFER_SIZE).repeat().batch(BATCH_SIZE)"
      ],
      "execution_count": null,
      "outputs": []
    },
    {
      "cell_type": "code",
      "metadata": {
        "id": "dDDRigeRHgIO",
        "colab_type": "code",
        "colab": {}
      },
      "source": [
        "# 3.) Training Procedure"
      ],
      "execution_count": null,
      "outputs": []
    },
    {
      "cell_type": "code",
      "metadata": {
        "id": "NFu-1XnQHjqb",
        "colab_type": "code",
        "colab": {}
      },
      "source": [
        "lr_schedule = tf.keras.optimizers.schedules.InverseTimeDecay(\n",
        "    0.001,\n",
        "    decay_steps=STEPS_PER_EPOCH*1000,\n",
        "    decay_rate=1,\n",
        "    staircase=False)\n",
        "\n",
        "def get_optimizer():\n",
        "  return tf.keras.optimizers.Adam(lr_schedule)"
      ],
      "execution_count": null,
      "outputs": []
    },
    {
      "cell_type": "code",
      "metadata": {
        "id": "r3B0Hb-OP234",
        "colab_type": "code",
        "colab": {
          "base_uri": "https://localhost:8080/",
          "height": 387
        },
        "outputId": "328126c1-eabd-4d81-aedb-baba88e8c9d4"
      },
      "source": [
        "step = np.linspace(0, 100000)\n",
        "lr = lr_schedule(step)\n",
        "plt.figure(figsize=(8,6))\n",
        "plt.plot(step/STEPS_PER_EPOCH, lr)\n",
        "plt.ylim([0,max(plt.ylim())])\n",
        "plt.xlabel('Epoch')\n",
        "_ = plt.ylabel('Learning Rate')"
      ],
      "execution_count": null,
      "outputs": [
        {
          "output_type": "display_data",
          "data": {
            "image/png": "[encoded data removed]",
            "text/plain": [
              "<Figure size 576x432 with 1 Axes>"
            ]
          },
          "metadata": {
            "tags": [],
            "needs_background": "light"
          }
        }
      ]
    },
    {
      "cell_type": "code",
      "metadata": {
        "id": "A-2c2y9aQvbg",
        "colab_type": "code",
        "colab": {}
      },
      "source": [
        "def get_callbacks(name):\n",
        "  return [\n",
        "          tfdocs.modeling.EpochDots(),\n",
        "          tf.keras.callbacks.EarlyStopping(monitor='val_binary_crossentropy', patience=200),\n",
        "          tf.keras.callbacks.TensorBoard(logdir/name),\n",
        "  ]"
      ],
      "execution_count": null,
      "outputs": []
    },
    {
      "cell_type": "code",
      "metadata": {
        "id": "Pcabp8eiRkn7",
        "colab_type": "code",
        "colab": {}
      },
      "source": [
        "def compile_and_fit(model, name, optimizer=None, max_epochs=10000):\n",
        "  if optimizer is None:\n",
        "    optimizer = get_optimizer()\n",
        "  model.compile(optimizer=optimizer,\n",
        "                loss=tf.keras.losses.BinaryCrossentropy(from_logits=True),\n",
        "                metrics=[\n",
        "                         tf.keras.losses.BinaryCrossentropy(\n",
        "                             from_logits=True, name='binary_crossentropy'),\n",
        "                         'accuracy'])\n",
        "  \n",
        "  model.summary()\n",
        "\n",
        "  history = model.fit(\n",
        "      train_ds,\n",
        "      steps_per_epoch = STEPS_PER_EPOCH,\n",
        "      epochs=max_epochs,\n",
        "      validation_data=validate_ds,\n",
        "      callbacks=get_callbacks(name),\n",
        "      verbose=0)\n",
        "  return history"
      ],
      "execution_count": null,
      "outputs": []
    },
    {
      "cell_type": "code",
      "metadata": {
        "id": "8dohOlMSTWWR",
        "colab_type": "code",
        "colab": {}
      },
      "source": [
        "# 4.) Train Tiny Model"
      ],
      "execution_count": null,
      "outputs": []
    },
    {
      "cell_type": "code",
      "metadata": {
        "id": "Yx4qsKmSTbG7",
        "colab_type": "code",
        "colab": {}
      },
      "source": [
        "tiny_model = tf.keras.Sequential([\n",
        "                                  layers.Dense(16, activation='elu', input_shape=(FEATURES,)),\n",
        "                                  layers.Dense(1)\n",
        "])"
      ],
      "execution_count": null,
      "outputs": []
    },
    {
      "cell_type": "code",
      "metadata": {
        "id": "XofCRasATnTs",
        "colab_type": "code",
        "colab": {}
      },
      "source": [
        "size_histories = {}"
      ],
      "execution_count": null,
      "outputs": []
    },
    {
      "cell_type": "code",
      "metadata": {
        "id": "WuT6cEmzTp_y",
        "colab_type": "code",
        "colab": {
          "base_uri": "https://localhost:8080/",
          "height": 1000
        },
        "outputId": "7b8366ee-509c-4074-c4af-c2b916856df5"
      },
      "source": [
        "size_histories['Tiny'] = compile_and_fit(tiny_model, 'sizes/Tiny')"
      ],
      "execution_count": null,
      "outputs": [
        {
          "output_type": "stream",
          "text": [
            "Model: \"sequential\"\n",
            "_________________________________________________________________\n",
            "Layer (type)                 Output Shape              Param #   \n",
            "=================================================================\n",
            "dense (Dense)                (None, 16)                464       \n",
            "_________________________________________________________________\n",
            "dense_1 (Dense)              (None, 1)                 17        \n",
            "=================================================================\n",
            "Total params: 481\n",
            "Trainable params: 481\n",
            "Non-trainable params: 0\n",
            "_________________________________________________________________\n",
            "\n",
            "Epoch: 0, accuracy:0.4825,  binary_crossentropy:0.8471,  loss:0.8471,  val_accuracy:0.4820,  val_binary_crossentropy:0.8015,  val_loss:0.8015,  \n",
            "....................................................................................................\n",
            "Epoch: 100, accuracy:0.5882,  binary_crossentropy:0.6317,  loss:0.6317,  val_accuracy:0.5740,  val_binary_crossentropy:0.6322,  val_loss:0.6322,  \n",
            "....................................................................................................\n",
            "Epoch: 200, accuracy:0.6076,  binary_crossentropy:0.6201,  loss:0.6201,  val_accuracy:0.5700,  val_binary_crossentropy:0.6215,  val_loss:0.6215,  \n",
            "....................................................................................................\n",
            "Epoch: 300, accuracy:0.6298,  binary_crossentropy:0.6085,  loss:0.6085,  val_accuracy:0.6140,  val_binary_crossentropy:0.6080,  val_loss:0.6080,  \n",
            "....................................................................................................\n",
            "Epoch: 400, accuracy:0.6472,  binary_crossentropy:0.5997,  loss:0.5997,  val_accuracy:0.6250,  val_binary_crossentropy:0.6025,  val_loss:0.6025,  \n",
            "....................................................................................................\n",
            "Epoch: 500, accuracy:0.6543,  binary_crossentropy:0.5943,  loss:0.5943,  val_accuracy:0.6340,  val_binary_crossentropy:0.5978,  val_loss:0.5978,  \n",
            "....................................................................................................\n",
            "Epoch: 600, accuracy:0.6568,  binary_crossentropy:0.5907,  loss:0.5907,  val_accuracy:0.6510,  val_binary_crossentropy:0.5930,  val_loss:0.5930,  \n",
            "....................................................................................................\n",
            "Epoch: 700, accuracy:0.6627,  binary_crossentropy:0.5881,  loss:0.5881,  val_accuracy:0.6420,  val_binary_crossentropy:0.5935,  val_loss:0.5935,  \n",
            "....................................................................................................\n",
            "Epoch: 800, accuracy:0.6645,  binary_crossentropy:0.5856,  loss:0.5856,  val_accuracy:0.6540,  val_binary_crossentropy:0.5898,  val_loss:0.5898,  \n",
            "....................................................................................................\n",
            "Epoch: 900, accuracy:0.6646,  binary_crossentropy:0.5841,  loss:0.5841,  val_accuracy:0.6580,  val_binary_crossentropy:0.5892,  val_loss:0.5892,  \n",
            "....................................................................................................\n",
            "Epoch: 1000, accuracy:0.6716,  binary_crossentropy:0.5826,  loss:0.5826,  val_accuracy:0.6500,  val_binary_crossentropy:0.5900,  val_loss:0.5900,  \n",
            "....................................................................................................\n",
            "Epoch: 1100, accuracy:0.6687,  binary_crossentropy:0.5819,  loss:0.5819,  val_accuracy:0.6570,  val_binary_crossentropy:0.5880,  val_loss:0.5880,  \n",
            "....................................................................................................\n",
            "Epoch: 1200, accuracy:0.6709,  binary_crossentropy:0.5805,  loss:0.5805,  val_accuracy:0.6610,  val_binary_crossentropy:0.5857,  val_loss:0.5857,  \n",
            "....................................................................................................\n",
            "Epoch: 1300, accuracy:0.6732,  binary_crossentropy:0.5791,  loss:0.5791,  val_accuracy:0.6670,  val_binary_crossentropy:0.5857,  val_loss:0.5857,  \n",
            "....................................................................................................\n",
            "Epoch: 1400, accuracy:0.6719,  binary_crossentropy:0.5779,  loss:0.5779,  val_accuracy:0.6710,  val_binary_crossentropy:0.5849,  val_loss:0.5849,  \n",
            "....................................................................................................\n",
            "Epoch: 1500, accuracy:0.6759,  binary_crossentropy:0.5770,  loss:0.5770,  val_accuracy:0.6730,  val_binary_crossentropy:0.5832,  val_loss:0.5832,  \n",
            "....................................................................................................\n",
            "Epoch: 1600, accuracy:0.6762,  binary_crossentropy:0.5760,  loss:0.5760,  val_accuracy:0.6730,  val_binary_crossentropy:0.5829,  val_loss:0.5829,  \n",
            "....................................................................................................\n",
            "Epoch: 1700, accuracy:0.6756,  binary_crossentropy:0.5755,  loss:0.5755,  val_accuracy:0.6750,  val_binary_crossentropy:0.5829,  val_loss:0.5829,  \n",
            "....................................................................................................\n",
            "Epoch: 1800, accuracy:0.6800,  binary_crossentropy:0.5740,  loss:0.5740,  val_accuracy:0.6730,  val_binary_crossentropy:0.5825,  val_loss:0.5825,  \n",
            "....................................................................................................\n",
            "Epoch: 1900, accuracy:0.6786,  binary_crossentropy:0.5732,  loss:0.5732,  val_accuracy:0.6770,  val_binary_crossentropy:0.5800,  val_loss:0.5800,  \n",
            "....................................................................................................\n",
            "Epoch: 2000, accuracy:0.6806,  binary_crossentropy:0.5723,  loss:0.5723,  val_accuracy:0.6690,  val_binary_crossentropy:0.5818,  val_loss:0.5818,  \n",
            "....................................................................................................\n",
            "Epoch: 2100, accuracy:0.6772,  binary_crossentropy:0.5714,  loss:0.5714,  val_accuracy:0.6810,  val_binary_crossentropy:0.5785,  val_loss:0.5785,  \n",
            "....................................................................................................\n",
            "Epoch: 2200, accuracy:0.6780,  binary_crossentropy:0.5710,  loss:0.5710,  val_accuracy:0.6760,  val_binary_crossentropy:0.5783,  val_loss:0.5783,  \n",
            "....................................................................................................\n",
            "Epoch: 2300, accuracy:0.6837,  binary_crossentropy:0.5699,  loss:0.5699,  val_accuracy:0.6660,  val_binary_crossentropy:0.5804,  val_loss:0.5804,  \n",
            "....................................................................................................\n",
            "Epoch: 2400, accuracy:0.6848,  binary_crossentropy:0.5694,  loss:0.5694,  val_accuracy:0.6710,  val_binary_crossentropy:0.5791,  val_loss:0.5791,  \n",
            "....................................................................................................\n",
            "Epoch: 2500, accuracy:0.6825,  binary_crossentropy:0.5686,  loss:0.5686,  val_accuracy:0.6730,  val_binary_crossentropy:0.5772,  val_loss:0.5772,  \n",
            "....................................................................................................\n",
            "Epoch: 2600, accuracy:0.6843,  binary_crossentropy:0.5679,  loss:0.5679,  val_accuracy:0.6690,  val_binary_crossentropy:0.5777,  val_loss:0.5777,  \n",
            "....................................................................................................\n",
            "Epoch: 2700, accuracy:0.6867,  binary_crossentropy:0.5672,  loss:0.5672,  val_accuracy:0.6690,  val_binary_crossentropy:0.5774,  val_loss:0.5774,  \n",
            "....................................................................................................\n",
            "Epoch: 2800, accuracy:0.6859,  binary_crossentropy:0.5665,  loss:0.5665,  val_accuracy:0.6660,  val_binary_crossentropy:0.5779,  val_loss:0.5779,  \n",
            "....................................................................................................\n",
            "Epoch: 2900, accuracy:0.6868,  binary_crossentropy:0.5659,  loss:0.5659,  val_accuracy:0.6710,  val_binary_crossentropy:0.5759,  val_loss:0.5759,  \n",
            "....................................................................................................\n",
            "Epoch: 3000, accuracy:0.6882,  binary_crossentropy:0.5653,  loss:0.5653,  val_accuracy:0.6660,  val_binary_crossentropy:0.5770,  val_loss:0.5770,  \n",
            "....................................................................................................\n",
            "Epoch: 3100, accuracy:0.6849,  binary_crossentropy:0.5651,  loss:0.5651,  val_accuracy:0.6750,  val_binary_crossentropy:0.5743,  val_loss:0.5743,  \n",
            "....................................................................................................\n",
            "Epoch: 3200, accuracy:0.6874,  binary_crossentropy:0.5644,  loss:0.5644,  val_accuracy:0.6650,  val_binary_crossentropy:0.5771,  val_loss:0.5771,  \n",
            "....................................................................................................\n",
            "Epoch: 3300, accuracy:0.6895,  binary_crossentropy:0.5637,  loss:0.5637,  val_accuracy:0.6620,  val_binary_crossentropy:0.5767,  val_loss:0.5767,  \n",
            "....................................................................................................\n",
            "Epoch: 3400, accuracy:0.6906,  binary_crossentropy:0.5633,  loss:0.5633,  val_accuracy:0.6680,  val_binary_crossentropy:0.5762,  val_loss:0.5762,  \n",
            "....................................................................................................\n",
            "Epoch: 3500, accuracy:0.6869,  binary_crossentropy:0.5632,  loss:0.5632,  val_accuracy:0.6710,  val_binary_crossentropy:0.5747,  val_loss:0.5747,  \n",
            "....................................................................................................\n",
            "Epoch: 3600, accuracy:0.6886,  binary_crossentropy:0.5624,  loss:0.5624,  val_accuracy:0.6730,  val_binary_crossentropy:0.5751,  val_loss:0.5751,  \n",
            "............................................................................."
          ],
          "name": "stdout"
        }
      ]
    },
    {
      "cell_type": "code",
      "metadata": {
        "id": "4_GNg4poT0tN",
        "colab_type": "code",
        "colab": {
          "base_uri": "https://localhost:8080/",
          "height": 301
        },
        "outputId": "e4ba58ec-cb9d-4e38-d6eb-ca721ece52f7"
      },
      "source": [
        "plotter = tfdocs.plots.HistoryPlotter(metric = 'binary_crossentropy', smoothing_std=10)\n",
        "plotter.plot(size_histories)\n",
        "plt.ylim([0.5, 0.7])"
      ],
      "execution_count": null,
      "outputs": [
        {
          "output_type": "execute_result",
          "data": {
            "text/plain": [
              "(0.5, 0.7)"
            ]
          },
          "metadata": {
            "tags": []
          },
          "execution_count": 26
        },
        {
          "output_type": "display_data",
          "data": {
            "image/png": "[encoded data removed]",
            "text/plain": [
              "<Figure size 432x288 with 1 Axes>"
            ]
          },
          "metadata": {
            "tags": [],
            "needs_background": "light"
          }
        }
      ]
    },
    {
      "cell_type": "code",
      "metadata": {
        "id": "fwVAiKsBUmdV",
        "colab_type": "code",
        "colab": {}
      },
      "source": [
        "# 5.) Train Small Model"
      ],
      "execution_count": null,
      "outputs": []
    },
    {
      "cell_type": "code",
      "metadata": {
        "id": "YITvXEmiUqoO",
        "colab_type": "code",
        "colab": {}
      },
      "source": [
        "small_model = tf.keras.Sequential([\n",
        "                                   # 'input_shape' is only required here so that '.summary' works\n",
        "                                   layers.Dense(16, activation='elu', input_shape=(FEATURES,)),\n",
        "                                   layers.Dense(16, activation='elu'),\n",
        "                                   layers.Dense(1)\n",
        "])"
      ],
      "execution_count": null,
      "outputs": []
    },
    {
      "cell_type": "code",
      "metadata": {
        "id": "ub08yXdWVEO5",
        "colab_type": "code",
        "colab": {
          "base_uri": "https://localhost:8080/",
          "height": 481
        },
        "outputId": "1c8efa8d-cdf1-4198-bd79-b93e3a92bbd4"
      },
      "source": [
        "size_histories['Small'] = compile_and_fit(small_model, 'sizes/Small')"
      ],
      "execution_count": null,
      "outputs": [
        {
          "output_type": "stream",
          "text": [
            "Model: \"sequential_1\"\n",
            "_________________________________________________________________\n",
            "Layer (type)                 Output Shape              Param #   \n",
            "=================================================================\n",
            "dense_2 (Dense)              (None, 16)                464       \n",
            "_________________________________________________________________\n",
            "dense_3 (Dense)              (None, 16)                272       \n",
            "_________________________________________________________________\n",
            "dense_4 (Dense)              (None, 1)                 17        \n",
            "=================================================================\n",
            "Total params: 753\n",
            "Trainable params: 753\n",
            "Non-trainable params: 0\n",
            "_________________________________________________________________\n",
            "\n",
            "Epoch: 0, accuracy:0.4876,  binary_crossentropy:0.7508,  loss:0.7508,  val_accuracy:0.4860,  val_binary_crossentropy:0.7056,  val_loss:0.7056,  \n",
            "....................................................................................................\n",
            "Epoch: 100, accuracy:0.6314,  binary_crossentropy:0.6096,  loss:0.6096,  val_accuracy:0.6060,  val_binary_crossentropy:0.6131,  val_loss:0.6131,  \n",
            "....................................................................................................\n",
            "Epoch: 200, accuracy:0.6703,  binary_crossentropy:0.5839,  loss:0.5839,  val_accuracy:0.6430,  val_binary_crossentropy:0.5907,  val_loss:0.5907,  \n",
            "....................................................................................................\n",
            "Epoch: 300, accuracy:0.6835,  binary_crossentropy:0.5746,  loss:0.5746,  val_accuracy:0.6530,  val_binary_crossentropy:0.5893,  val_loss:0.5893,  \n",
            "....................................................................................................\n",
            "Epoch: 400, accuracy:0.6878,  binary_crossentropy:0.5709,  loss:0.5709,  val_accuracy:0.6580,  val_binary_crossentropy:0.5908,  val_loss:0.5908,  \n",
            ".................................."
          ],
          "name": "stdout"
        }
      ]
    },
    {
      "cell_type": "code",
      "metadata": {
        "id": "8inuNAp5VMCb",
        "colab_type": "code",
        "colab": {}
      },
      "source": [
        "# 6.) Train Medium Model"
      ],
      "execution_count": null,
      "outputs": []
    },
    {
      "cell_type": "code",
      "metadata": {
        "id": "MvIusNhgVQO1",
        "colab_type": "code",
        "colab": {}
      },
      "source": [
        "medium_model = tf.keras.Sequential([\n",
        "                                    layers.Dense(64, activation='elu', input_shape=(FEATURES,)),\n",
        "                                    layers.Dense(64, activation='elu'),\n",
        "                                    layers.Dense(64, activation='elu'),\n",
        "                                    layers.Dense(1)\n",
        "])"
      ],
      "execution_count": null,
      "outputs": []
    },
    {
      "cell_type": "code",
      "metadata": {
        "id": "g-MRxG3mVkhH",
        "colab_type": "code",
        "colab": {
          "base_uri": "https://localhost:8080/",
          "height": 445
        },
        "outputId": "b0c72d03-d643-4630-90a6-fe46a46594b5"
      },
      "source": [
        "size_histories['Medium'] = compile_and_fit(medium_model, \"sizes/Medium\")"
      ],
      "execution_count": null,
      "outputs": [
        {
          "output_type": "stream",
          "text": [
            "Model: \"sequential_2\"\n",
            "_________________________________________________________________\n",
            "Layer (type)                 Output Shape              Param #   \n",
            "=================================================================\n",
            "dense_5 (Dense)              (None, 64)                1856      \n",
            "_________________________________________________________________\n",
            "dense_6 (Dense)              (None, 64)                4160      \n",
            "_________________________________________________________________\n",
            "dense_7 (Dense)              (None, 64)                4160      \n",
            "_________________________________________________________________\n",
            "dense_8 (Dense)              (None, 1)                 65        \n",
            "=================================================================\n",
            "Total params: 10,241\n",
            "Trainable params: 10,241\n",
            "Non-trainable params: 0\n",
            "_________________________________________________________________\n",
            "\n",
            "Epoch: 0, accuracy:0.5014,  binary_crossentropy:0.6882,  loss:0.6882,  val_accuracy:0.4910,  val_binary_crossentropy:0.6705,  val_loss:0.6705,  \n",
            "....................................................................................................\n",
            "Epoch: 100, accuracy:0.7075,  binary_crossentropy:0.5348,  loss:0.5348,  val_accuracy:0.6480,  val_binary_crossentropy:0.6087,  val_loss:0.6087,  \n",
            "....................................................................................................\n",
            "Epoch: 200, accuracy:0.7801,  binary_crossentropy:0.4399,  loss:0.4399,  val_accuracy:0.6310,  val_binary_crossentropy:0.6947,  val_loss:0.6947,  \n",
            "............................................................"
          ],
          "name": "stdout"
        }
      ]
    },
    {
      "cell_type": "code",
      "metadata": {
        "id": "FLqc12Z6Vtdo",
        "colab_type": "code",
        "colab": {}
      },
      "source": [
        "# 7.) Train Large Model"
      ],
      "execution_count": null,
      "outputs": []
    },
    {
      "cell_type": "code",
      "metadata": {
        "id": "kImQi0k9Vyz4",
        "colab_type": "code",
        "colab": {}
      },
      "source": [
        "large_model = tf.keras.Sequential([\n",
        "                                   layers.Dense(512, activation='elu', input_shape=(FEATURES,)),\n",
        "                                   layers.Dense(512, activation='elu'),\n",
        "                                   layers.Dense(512, activation='elu'),\n",
        "                                   layers.Dense(512, activation='elu'),\n",
        "                                   layers.Dense(1)\n",
        "])"
      ],
      "execution_count": null,
      "outputs": []
    },
    {
      "cell_type": "code",
      "metadata": {
        "id": "iS-VtWBrWCoe",
        "colab_type": "code",
        "colab": {
          "base_uri": "https://localhost:8080/",
          "height": 481
        },
        "outputId": "ad6d244c-f7a4-468f-a1c4-6bd67fddc308"
      },
      "source": [
        "size_histories['large'] = compile_and_fit(large_model, \"sizes/large\")"
      ],
      "execution_count": null,
      "outputs": [
        {
          "output_type": "stream",
          "text": [
            "Model: \"sequential_3\"\n",
            "_________________________________________________________________\n",
            "Layer (type)                 Output Shape              Param #   \n",
            "=================================================================\n",
            "dense_9 (Dense)              (None, 512)               14848     \n",
            "_________________________________________________________________\n",
            "dense_10 (Dense)             (None, 512)               262656    \n",
            "_________________________________________________________________\n",
            "dense_11 (Dense)             (None, 512)               262656    \n",
            "_________________________________________________________________\n",
            "dense_12 (Dense)             (None, 512)               262656    \n",
            "_________________________________________________________________\n",
            "dense_13 (Dense)             (None, 1)                 513       \n",
            "=================================================================\n",
            "Total params: 803,329\n",
            "Trainable params: 803,329\n",
            "Non-trainable params: 0\n",
            "_________________________________________________________________\n",
            "\n",
            "Epoch: 0, accuracy:0.5045,  binary_crossentropy:0.7738,  loss:0.7738,  val_accuracy:0.5680,  val_binary_crossentropy:0.6854,  val_loss:0.6854,  \n",
            "....................................................................................................\n",
            "Epoch: 100, accuracy:1.0000,  binary_crossentropy:0.0020,  loss:0.0020,  val_accuracy:0.6540,  val_binary_crossentropy:1.8666,  val_loss:1.8666,  \n",
            "....................................................................................................\n",
            "Epoch: 200, accuracy:1.0000,  binary_crossentropy:0.0001,  loss:0.0001,  val_accuracy:0.6630,  val_binary_crossentropy:2.5360,  val_loss:2.5360,  \n",
            "....................."
          ],
          "name": "stdout"
        }
      ]
    },
    {
      "cell_type": "code",
      "metadata": {
        "id": "2y6qmEdhWNDu",
        "colab_type": "code",
        "colab": {
          "base_uri": "https://localhost:8080/",
          "height": 304
        },
        "outputId": "40ac5fc4-5f4b-4d3c-adce-9d8787529a55"
      },
      "source": [
        "plotter.plot(size_histories)\n",
        "a = plt.xscale('log')\n",
        "plt.xlim([5, max(plt.xlim())])\n",
        "plt.ylim([0.5, 0.7])\n",
        "plt.xlabel(\"Epochs [Log Scale]\")"
      ],
      "execution_count": null,
      "outputs": [
        {
          "output_type": "execute_result",
          "data": {
            "text/plain": [
              "Text(0.5, 0, 'Epochs [Log Scale]')"
            ]
          },
          "metadata": {
            "tags": []
          },
          "execution_count": 36
        },
        {
          "output_type": "display_data",
          "data": {
            "image/png": "[encoded data removed]",
            "text/plain": [
              "<Figure size 432x288 with 1 Axes>"
            ]
          },
          "metadata": {
            "tags": [],
            "needs_background": "light"
          }
        }
      ]
    },
    {
      "cell_type": "code",
      "metadata": {
        "id": "V5yZY6KIcP8N",
        "colab_type": "code",
        "colab": {}
      },
      "source": [
        "# Load the TensorBoard notebook extension\n",
        "%load_ext tensorboard\n",
        "\n",
        "# Open an embedded TensorBoard viewer\n",
        "%tensorboard --logdir {logdir}/sizes\n",
        "\n",
        "display.IFrame(\n",
        "    src=\"https://tensorboard.dev/experiment/vW7jmmF9TmKmy3rbheMQpw/#scalars&_smoothingWeight=0.97\",\n",
        "    width=\"100%\", height=\"800px\"   \n",
        ")"
      ],
      "execution_count": null,
      "outputs": []
    },
    {
      "cell_type": "code",
      "metadata": {
        "id": "6KAoO9DGcjMF",
        "colab_type": "code",
        "colab": {}
      },
      "source": [
        "tensorboard dev upload --logdir  {logdir}/sizes"
      ],
      "execution_count": null,
      "outputs": []
    },
    {
      "cell_type": "code",
      "metadata": {
        "id": "xN8nOmhHfxQ1",
        "colab_type": "code",
        "colab": {}
      },
      "source": [
        "# 8.) Strategies to Prevent Overfitting"
      ],
      "execution_count": null,
      "outputs": []
    },
    {
      "cell_type": "code",
      "metadata": {
        "id": "tmLd71I-f3Go",
        "colab_type": "code",
        "colab": {
          "base_uri": "https://localhost:8080/",
          "height": 34
        },
        "outputId": "65b36179-e488-456b-ee3f-a6b4c088a513"
      },
      "source": [
        "shutil.rmtree(logdir/'regularizers/Tiny', ignore_errors=True)\n",
        "shutil.copytree(logdir/'sizes/Tiny', logdir/'regularizers/Tiny')"
      ],
      "execution_count": null,
      "outputs": [
        {
          "output_type": "execute_result",
          "data": {
            "text/plain": [
              "PosixPath('/tmp/tmpeenhgnu0/tensorboard_logs/regularizers/Tiny')"
            ]
          },
          "metadata": {
            "tags": []
          },
          "execution_count": 40
        }
      ]
    },
    {
      "cell_type": "code",
      "metadata": {
        "id": "2luUsl0hhLl_",
        "colab_type": "code",
        "colab": {}
      },
      "source": [
        "regularizer_histories = {}\n",
        "regularizer_histories['Tiny'] = size_histories['Tiny']"
      ],
      "execution_count": null,
      "outputs": []
    },
    {
      "cell_type": "code",
      "metadata": {
        "id": "BNWjTaZwhZhS",
        "colab_type": "code",
        "colab": {}
      },
      "source": [
        "# 9.) Add Weight Regularization"
      ],
      "execution_count": null,
      "outputs": []
    },
    {
      "cell_type": "code",
      "metadata": {
        "id": "cQo10g0HhdZU",
        "colab_type": "code",
        "colab": {
          "base_uri": "https://localhost:8080/",
          "height": 658
        },
        "outputId": "131341ba-8495-4b5c-a79f-48e88edb1e9f"
      },
      "source": [
        "l2_model = tf.keras.Sequential([\n",
        "                                layers.Dense(512, activation='elu',\n",
        "                                             kernel_regularizer=regularizers.l2(0.001),\n",
        "                                             input_shape=(FEATURES,)),\n",
        "                                layers.Dense(512, activation='elu',\n",
        "                                             kernel_regularizer=regularizers.l2(0.001)),\n",
        "                                layers.Dense(512, activation='elu',\n",
        "                                             kernel_regularizer=regularizers.l2(0.001)),\n",
        "                                layers.Dense(512, activation='elu',\n",
        "                                             kernel_regularizer=regularizers.l2(0.001)),\n",
        "                                layers.Dense(1),\n",
        "])\n",
        "\n",
        "regularizer_histories['l2'] = compile_and_fit(l2_model, \"regularizers/l2\")"
      ],
      "execution_count": null,
      "outputs": [
        {
          "output_type": "stream",
          "text": [
            "Model: \"sequential_4\"\n",
            "_________________________________________________________________\n",
            "Layer (type)                 Output Shape              Param #   \n",
            "=================================================================\n",
            "dense_14 (Dense)             (None, 512)               14848     \n",
            "_________________________________________________________________\n",
            "dense_15 (Dense)             (None, 512)               262656    \n",
            "_________________________________________________________________\n",
            "dense_16 (Dense)             (None, 512)               262656    \n",
            "_________________________________________________________________\n",
            "dense_17 (Dense)             (None, 512)               262656    \n",
            "_________________________________________________________________\n",
            "dense_18 (Dense)             (None, 1)                 513       \n",
            "=================================================================\n",
            "Total params: 803,329\n",
            "Trainable params: 803,329\n",
            "Non-trainable params: 0\n",
            "_________________________________________________________________\n",
            "\n",
            "Epoch: 0, accuracy:0.5097,  binary_crossentropy:0.7814,  loss:2.2911,  val_accuracy:0.4700,  val_binary_crossentropy:0.6984,  val_loss:2.1281,  \n",
            "....................................................................................................\n",
            "Epoch: 100, accuracy:0.6582,  binary_crossentropy:0.5968,  loss:0.6197,  val_accuracy:0.6230,  val_binary_crossentropy:0.5878,  val_loss:0.6106,  \n",
            "....................................................................................................\n",
            "Epoch: 200, accuracy:0.6713,  binary_crossentropy:0.5834,  loss:0.6065,  val_accuracy:0.6690,  val_binary_crossentropy:0.5756,  val_loss:0.5984,  \n",
            "....................................................................................................\n",
            "Epoch: 300, accuracy:0.6782,  binary_crossentropy:0.5768,  loss:0.6012,  val_accuracy:0.6730,  val_binary_crossentropy:0.5740,  val_loss:0.5984,  \n",
            "....................................................................................................\n",
            "Epoch: 400, accuracy:0.6926,  binary_crossentropy:0.5633,  loss:0.5873,  val_accuracy:0.6640,  val_binary_crossentropy:0.5799,  val_loss:0.6040,  \n",
            "....................................................................................................\n",
            "Epoch: 500, accuracy:0.7021,  binary_crossentropy:0.5548,  loss:0.5819,  val_accuracy:0.6980,  val_binary_crossentropy:0.5736,  val_loss:0.6004,  \n",
            "....................................................................................................\n",
            "Epoch: 600, accuracy:0.7078,  binary_crossentropy:0.5491,  loss:0.5797,  val_accuracy:0.6820,  val_binary_crossentropy:0.5860,  val_loss:0.6160,  \n",
            "....................................................................................................\n",
            "Epoch: 700, accuracy:0.7077,  binary_crossentropy:0.5437,  loss:0.5727,  val_accuracy:0.6790,  val_binary_crossentropy:0.5811,  val_loss:0.6101,  \n",
            "............................................................................................."
          ],
          "name": "stdout"
        }
      ]
    },
    {
      "cell_type": "code",
      "metadata": {
        "id": "5ghPVAjaHCZi",
        "colab_type": "code",
        "colab": {
          "base_uri": "https://localhost:8080/",
          "height": 301
        },
        "outputId": "976c8907-c4fc-4722-ec04-5805a8afe3bb"
      },
      "source": [
        "plotter.plot(regularizer_histories)\n",
        "plt.ylim([0.5, 0.7])"
      ],
      "execution_count": null,
      "outputs": [
        {
          "output_type": "execute_result",
          "data": {
            "text/plain": [
              "(0.5, 0.7)"
            ]
          },
          "metadata": {
            "tags": []
          },
          "execution_count": 44
        },
        {
          "output_type": "display_data",
          "data": {
            "image/png": "[encoded data removed]",
            "text/plain": [
              "<Figure size 432x288 with 1 Axes>"
            ]
          },
          "metadata": {
            "tags": [],
            "needs_background": "light"
          }
        }
      ]
    },
    {
      "cell_type": "code",
      "metadata": {
        "id": "5MCuf3maH_wf",
        "colab_type": "code",
        "colab": {}
      },
      "source": [
        "result = l2_model(features)\n",
        "regularization_loss=tf.add_n(l2_model.losses)"
      ],
      "execution_count": null,
      "outputs": []
    },
    {
      "cell_type": "code",
      "metadata": {
        "id": "xCFKP6OeJngk",
        "colab_type": "code",
        "colab": {}
      },
      "source": [
        "# 10.) Add Dropout"
      ],
      "execution_count": null,
      "outputs": []
    },
    {
      "cell_type": "code",
      "metadata": {
        "id": "TO06Xd-NLvVV",
        "colab_type": "code",
        "colab": {
          "base_uri": "https://localhost:8080/",
          "height": 623
        },
        "outputId": "ef9a7069-41ce-4a52-a7cb-008b1847eaca"
      },
      "source": [
        "dropout_model = tf.keras.Sequential([\n",
        "                                     layers.Dense(512, activation='elu', input_shape=(FEATURES,)),\n",
        "                                     layers.Dropout(0.5),\n",
        "                                     layers.Dense(512, activation='elu'),\n",
        "                                     layers.Dropout(0.5),\n",
        "                                     layers.Dense(512, activation='elu'),\n",
        "                                     layers.Dropout(0.5),\n",
        "                                     layers.Dense(512, activation='elu'),\n",
        "                                     layers.Dense(1)\n",
        "])\n",
        "\n",
        "regularizer_histories['dropout'] = compile_and_fit(dropout_model, \"regularizers/dropout\")"
      ],
      "execution_count": null,
      "outputs": [
        {
          "output_type": "stream",
          "text": [
            "Model: \"sequential_5\"\n",
            "_________________________________________________________________\n",
            "Layer (type)                 Output Shape              Param #   \n",
            "=================================================================\n",
            "dense_19 (Dense)             (None, 512)               14848     \n",
            "_________________________________________________________________\n",
            "dropout (Dropout)            (None, 512)               0         \n",
            "_________________________________________________________________\n",
            "dense_20 (Dense)             (None, 512)               262656    \n",
            "_________________________________________________________________\n",
            "dropout_1 (Dropout)          (None, 512)               0         \n",
            "_________________________________________________________________\n",
            "dense_21 (Dense)             (None, 512)               262656    \n",
            "_________________________________________________________________\n",
            "dropout_2 (Dropout)          (None, 512)               0         \n",
            "_________________________________________________________________\n",
            "dense_22 (Dense)             (None, 512)               262656    \n",
            "_________________________________________________________________\n",
            "dense_23 (Dense)             (None, 1)                 513       \n",
            "=================================================================\n",
            "Total params: 803,329\n",
            "Trainable params: 803,329\n",
            "Non-trainable params: 0\n",
            "_________________________________________________________________\n",
            "\n",
            "Epoch: 0, accuracy:0.5007,  binary_crossentropy:0.7625,  loss:0.7625,  val_accuracy:0.4970,  val_binary_crossentropy:0.6849,  val_loss:0.6849,  \n",
            "....................................................................................................\n",
            "Epoch: 100, accuracy:0.6822,  binary_crossentropy:0.5703,  loss:0.5703,  val_accuracy:0.6440,  val_binary_crossentropy:0.5973,  val_loss:0.5973,  \n",
            "....................................................................................................\n",
            "Epoch: 200, accuracy:0.7378,  binary_crossentropy:0.5042,  loss:0.5042,  val_accuracy:0.6620,  val_binary_crossentropy:0.6101,  val_loss:0.6101,  \n",
            "....................................................................................................\n",
            "Epoch: 300, accuracy:0.7995,  binary_crossentropy:0.4073,  loss:0.4073,  val_accuracy:0.6800,  val_binary_crossentropy:0.6791,  val_loss:0.6791,  \n",
            "..........................."
          ],
          "name": "stdout"
        }
      ]
    },
    {
      "cell_type": "code",
      "metadata": {
        "id": "75L5y5usOIsY",
        "colab_type": "code",
        "colab": {
          "base_uri": "https://localhost:8080/",
          "height": 301
        },
        "outputId": "02d0cc5b-7cc3-474a-d1f1-4d3a63502f55"
      },
      "source": [
        "plotter.plot(regularizer_histories)\n",
        "plt.ylim([0.5, 0.7])"
      ],
      "execution_count": null,
      "outputs": [
        {
          "output_type": "execute_result",
          "data": {
            "text/plain": [
              "(0.5, 0.7)"
            ]
          },
          "metadata": {
            "tags": []
          },
          "execution_count": 48
        },
        {
          "output_type": "display_data",
          "data": {
            "image/png": "[encoded data removed]",
            "text/plain": [
              "<Figure size 432x288 with 1 Axes>"
            ]
          },
          "metadata": {
            "tags": [],
            "needs_background": "light"
          }
        }
      ]
    },
    {
      "cell_type": "code",
      "metadata": {
        "id": "CmV0wfEWOQo6",
        "colab_type": "code",
        "colab": {
          "base_uri": "https://localhost:8080/",
          "height": 943
        },
        "outputId": "f6504b35-3953-4e04-89b4-0c3e4404c70c"
      },
      "source": [
        "combined_model = tf.keras.Sequential([\n",
        "                                      layers.Dense(512, kernel_regularizer=regularizers.l2(0.0001),\n",
        "                                                   activation='elu', input_shape=(FEATURES,)),\n",
        "                                      layers.Dropout(0.5),\n",
        "                                      layers.Dense(512, kernel_regularizer=regularizers.l2(0.0001),\n",
        "                                                   activation='elu'),\n",
        "                                      layers.Dropout(0.5),\n",
        "                                      layers.Dense(512, kernel_regularizer=regularizers.l2(0.0001),\n",
        "                                                   activation='elu'),\n",
        "                                      layers.Dropout(0.5),\n",
        "                                      layers.Dense(512, kernel_regularizer=regularizers.l2(0.0001),\n",
        "                                                   activation='elu'),\n",
        "                                      layers.Dropout(0.5),\n",
        "                                      layers.Dense(1)\n",
        "])\n",
        "\n",
        "regularizer_histories['combined'] = compile_and_fit(combined_model, \"regularizers/combined\")"
      ],
      "execution_count": null,
      "outputs": [
        {
          "output_type": "stream",
          "text": [
            "Model: \"sequential_6\"\n",
            "_________________________________________________________________\n",
            "Layer (type)                 Output Shape              Param #   \n",
            "=================================================================\n",
            "dense_24 (Dense)             (None, 512)               14848     \n",
            "_________________________________________________________________\n",
            "dropout_3 (Dropout)          (None, 512)               0         \n",
            "_________________________________________________________________\n",
            "dense_25 (Dense)             (None, 512)               262656    \n",
            "_________________________________________________________________\n",
            "dropout_4 (Dropout)          (None, 512)               0         \n",
            "_________________________________________________________________\n",
            "dense_26 (Dense)             (None, 512)               262656    \n",
            "_________________________________________________________________\n",
            "dropout_5 (Dropout)          (None, 512)               0         \n",
            "_________________________________________________________________\n",
            "dense_27 (Dense)             (None, 512)               262656    \n",
            "_________________________________________________________________\n",
            "dropout_6 (Dropout)          (None, 512)               0         \n",
            "_________________________________________________________________\n",
            "dense_28 (Dense)             (None, 1)                 513       \n",
            "=================================================================\n",
            "Total params: 803,329\n",
            "Trainable params: 803,329\n",
            "Non-trainable params: 0\n",
            "_________________________________________________________________\n",
            "\n",
            "Epoch: 0, accuracy:0.5032,  binary_crossentropy:0.7960,  loss:0.9541,  val_accuracy:0.5440,  val_binary_crossentropy:0.7318,  val_loss:0.8892,  \n",
            "....................................................................................................\n",
            "Epoch: 100, accuracy:0.6388,  binary_crossentropy:0.6064,  loss:0.6353,  val_accuracy:0.6760,  val_binary_crossentropy:0.5911,  val_loss:0.6198,  \n",
            "....................................................................................................\n",
            "Epoch: 200, accuracy:0.6573,  binary_crossentropy:0.5913,  loss:0.6164,  val_accuracy:0.6940,  val_binary_crossentropy:0.5718,  val_loss:0.5968,  \n",
            "....................................................................................................\n",
            "Epoch: 300, accuracy:0.6673,  binary_crossentropy:0.5818,  loss:0.6107,  val_accuracy:0.6870,  val_binary_crossentropy:0.5661,  val_loss:0.5950,  \n",
            "....................................................................................................\n",
            "Epoch: 400, accuracy:0.6776,  binary_crossentropy:0.5752,  loss:0.6067,  val_accuracy:0.7000,  val_binary_crossentropy:0.5592,  val_loss:0.5908,  \n",
            "....................................................................................................\n",
            "Epoch: 500, accuracy:0.6865,  binary_crossentropy:0.5671,  loss:0.6010,  val_accuracy:0.7030,  val_binary_crossentropy:0.5473,  val_loss:0.5812,  \n",
            "....................................................................................................\n",
            "Epoch: 600, accuracy:0.6872,  binary_crossentropy:0.5630,  loss:0.5995,  val_accuracy:0.6860,  val_binary_crossentropy:0.5520,  val_loss:0.5884,  \n",
            "....................................................................................................\n",
            "Epoch: 700, accuracy:0.6859,  binary_crossentropy:0.5643,  loss:0.6028,  val_accuracy:0.6930,  val_binary_crossentropy:0.5487,  val_loss:0.5871,  \n",
            "....................................................................................................\n",
            "Epoch: 800, accuracy:0.6982,  binary_crossentropy:0.5538,  loss:0.5939,  val_accuracy:0.7000,  val_binary_crossentropy:0.5514,  val_loss:0.5915,  \n",
            "....................................................................................................\n",
            "Epoch: 900, accuracy:0.6973,  binary_crossentropy:0.5489,  loss:0.5902,  val_accuracy:0.6890,  val_binary_crossentropy:0.5453,  val_loss:0.5866,  \n",
            "....................................................................................................\n",
            "Epoch: 1000, accuracy:0.7042,  binary_crossentropy:0.5457,  loss:0.5881,  val_accuracy:0.6790,  val_binary_crossentropy:0.5499,  val_loss:0.5923,  \n",
            "....................................................................................................\n",
            "Epoch: 1100, accuracy:0.6994,  binary_crossentropy:0.5418,  loss:0.5852,  val_accuracy:0.7130,  val_binary_crossentropy:0.5440,  val_loss:0.5875,  \n",
            "....................................................."
          ],
          "name": "stdout"
        }
      ]
    },
    {
      "cell_type": "code",
      "metadata": {
        "id": "aC4-GqqcPmAs",
        "colab_type": "code",
        "colab": {
          "base_uri": "https://localhost:8080/",
          "height": 301
        },
        "outputId": "7a9144c4-05b5-4a5f-da9e-92b7697d66d1"
      },
      "source": [
        "plotter.plot(regularizer_histories)\n",
        "plt.ylim([0.5, 0.7])"
      ],
      "execution_count": null,
      "outputs": [
        {
          "output_type": "execute_result",
          "data": {
            "text/plain": [
              "(0.5, 0.7)"
            ]
          },
          "metadata": {
            "tags": []
          },
          "execution_count": 50
        },
        {
          "output_type": "display_data",
          "data": {
            "image/png": "[encoded data removed]",
            "text/plain": [
              "<Figure size 432x288 with 1 Axes>"
            ]
          },
          "metadata": {
            "tags": [],
            "needs_background": "light"
          }
        }
      ]
    },
    {
      "cell_type": "code",
      "metadata": {
        "id": "gZ9axkANPrnp",
        "colab_type": "code",
        "colab": {}
      },
      "source": [
        "%tensorboard --logdir {logdir}/regularizers\n",
        "\n",
        "display.IFrame(\n",
        "    src=\"https://tensorboard.dev/experiment/fGInKDo8TXes1z7HQku9mw/#scalars&_smoothingWeight=0.97\",\n",
        "    width = \"100%\",\n",
        "    height=\"800px\")"
      ],
      "execution_count": null,
      "outputs": []
    }
  ]
}